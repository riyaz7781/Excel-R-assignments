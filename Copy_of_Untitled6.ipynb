{
  "nbformat": 4,
  "nbformat_minor": 0,
  "metadata": {
    "colab": {
      "provenance": [],
      "authorship_tag": "ABX9TyOcE4rRzzwY7RBgsAJbZoLM",
      "include_colab_link": true
    },
    "kernelspec": {
      "name": "python3",
      "display_name": "Python 3"
    },
    "language_info": {
      "name": "python"
    }
  },
  "cells": [
    {
      "cell_type": "markdown",
      "metadata": {
        "id": "view-in-github",
        "colab_type": "text"
      },
      "source": [
        "<a href=\"https://colab.research.google.com/github/riyaz7781/riyaz7781/blob/main/Copy_of_Untitled6.ipynb\" target=\"_parent\"><img src=\"https://colab.research.google.com/assets/colab-badge.svg\" alt=\"Open In Colab\"/></a>"
      ]
    },
    {
      "cell_type": "markdown",
      "source": [
        "Importing the libraries"
      ],
      "metadata": {
        "id": "6J4lg-SPN8CK"
      }
    },
    {
      "cell_type": "code",
      "execution_count": null,
      "metadata": {
        "id": "-mIBHYNhSMaR"
      },
      "outputs": [],
      "source": [
        " import pandas as pd\n",
        " import numpy as np\n",
        " import matplotlib.pyplot as plt\n",
        " import seaborn as sns\n",
        " import scipy.stats as sts\n",
        " import statsmodels.api as smf\n",
        " import warnings\n",
        " warnings.filterwarnings(\"ignore\")"
      ]
    },
    {
      "cell_type": "markdown",
      "source": [
        "QUESTION-1"
      ],
      "metadata": {
        "id": "CDEoyjq1O_eH"
      }
    },
    {
      "cell_type": "markdown",
      "source": [
        "here mean=45 initially but it was given that work has begun after 10 minutes so we take mean=55 and std.deviation as 8"
      ],
      "metadata": {
        "id": "Hsn26F5ZOAeV"
      }
    },
    {
      "cell_type": "code",
      "source": [
        "mew=55\n",
        "std=8\n",
        "q1=sts.norm.sf(60,loc=mew,scale=std)\n",
        "np.round(q1,3)\n",
        "\n"
      ],
      "metadata": {
        "colab": {
          "base_uri": "https://localhost:8080/"
        },
        "id": "XwWRRxfnUe4r",
        "outputId": "8168bf0a-4f55-463d-de73-66796e2324f0"
      },
      "execution_count": null,
      "outputs": [
        {
          "output_type": "execute_result",
          "data": {
            "text/plain": [
              "0.266"
            ]
          },
          "metadata": {},
          "execution_count": 11
        }
      ]
    },
    {
      "cell_type": "markdown",
      "source": [
        "QUESTION-2"
      ],
      "metadata": {
        "id": "odvqcebqPhIy"
      }
    },
    {
      "cell_type": "markdown",
      "source": [
        "To calculate the distribution between 38 to 44 we must calculate the distribution of 38 and 44 and then calculate the distribution of age after 44"
      ],
      "metadata": {
        "id": "V9jKh4lEOTbs"
      }
    },
    {
      "cell_type": "code",
      "source": [
        "\n",
        "mew1=38\n",
        "std1=6\n",
        "less_than_38=sts.norm.cdf(38,loc=mew1,scale=std1)\n",
        "less_than_44=sts.norm.cdf(44,loc=mew1,scale=std1)\n",
        "betweem_38_and_44=(less_than_44-less_than_38)\n",
        "a=np.round(betweem_38_and_44*100,4)  #the probability of age between 38 and 44\n",
        "older_than_44=1-sts.norm.cdf(44,loc=mew1,scale=std)\n",
        "np.round(older_than_44*100,4),a\n"
      ],
      "metadata": {
        "colab": {
          "base_uri": "https://localhost:8080/"
        },
        "id": "JPAj8s9wVPn_",
        "outputId": "00b21b1c-b119-4aea-d08f-0a3c87a2c735"
      },
      "execution_count": null,
      "outputs": [
        {
          "output_type": "execute_result",
          "data": {
            "text/plain": [
              "(22.6627, 34.1345)"
            ]
          },
          "metadata": {},
          "execution_count": 26
        }
      ]
    },
    {
      "cell_type": "markdown",
      "source": [
        "Compare two values and make conclusion"
      ],
      "metadata": {
        "id": "euTITh7VOtZC"
      }
    },
    {
      "cell_type": "code",
      "source": [
        "true_or_false=(older_than_44>betweem_38_and_44)\n",
        "true_or_false"
      ],
      "metadata": {
        "colab": {
          "base_uri": "https://localhost:8080/"
        },
        "id": "uPvaAJxHWo1m",
        "outputId": "96730c2b-f17e-43de-bca7-a8859983aa08"
      },
      "execution_count": null,
      "outputs": [
        {
          "output_type": "execute_result",
          "data": {
            "text/plain": [
              "False"
            ]
          },
          "metadata": {},
          "execution_count": 27
        }
      ]
    },
    {
      "cell_type": "markdown",
      "source": [
        "Here we take 30 as probability value"
      ],
      "metadata": {
        "id": "22W6_J1SOyw7"
      }
    },
    {
      "cell_type": "code",
      "source": [
        "b=sts.norm.cdf(30,loc=mew1,scale=std1)\n",
        "print(\"The training program under age 30 could attract\",np.round(b*400),\"employees\")"
      ],
      "metadata": {
        "colab": {
          "base_uri": "https://localhost:8080/"
        },
        "id": "aKLYNj2MYd6-",
        "outputId": "4192dcdb-bd61-4800-e278-922100bc1db6"
      },
      "execution_count": null,
      "outputs": [
        {
          "output_type": "stream",
          "name": "stdout",
          "text": [
            "The training program under age 30 could attract 36.0 employees\n"
          ]
        }
      ]
    },
    {
      "cell_type": "markdown",
      "source": [
        "QUESTION-4"
      ],
      "metadata": {
        "id": "xZt4CS4SPqpy"
      }
    },
    {
      "cell_type": "markdown",
      "source": [
        "Here we taken 99 % confidence interval"
      ],
      "metadata": {
        "id": "-eV_nx9IPt8B"
      }
    },
    {
      "cell_type": "code",
      "source": [
        "np.round(sts.norm.interval(0.99,loc=100,scale=20),3)"
      ],
      "metadata": {
        "colab": {
          "base_uri": "https://localhost:8080/"
        },
        "id": "7t94NBZ6Y47C",
        "outputId": "955adf46-64d3-47a0-984c-539c4c74e195"
      },
      "execution_count": null,
      "outputs": [
        {
          "output_type": "execute_result",
          "data": {
            "text/plain": [
              "array([ 48.483, 151.517])"
            ]
          },
          "metadata": {},
          "execution_count": 33
        }
      ]
    },
    {
      "cell_type": "markdown",
      "source": [
        "Question-5"
      ],
      "metadata": {
        "id": "Idr5AM-HP0zT"
      }
    },
    {
      "cell_type": "markdown",
      "source": [
        "5(A)"
      ],
      "metadata": {
        "id": "EUc21OPZP8m6"
      }
    },
    {
      "cell_type": "code",
      "source": [
        "mean1=5\n",
        "mean2=7\n",
        "total_mean=(mean1+mean2)\n",
        "std1=3**2\n",
        "std2=4**2\n",
        "total_std=np.sqrt(std1+std2)\n",
        "print(\"Total STD is \",total_std)\n",
        "print(\"Total STD in Crores\",(total_std*45)/10)\n",
        "print(\"Total mean is\",total_mean)\n",
        "print(\"total mean in cores is \",(total_mean*45)/10)\n"
      ],
      "metadata": {
        "colab": {
          "base_uri": "https://localhost:8080/"
        },
        "id": "RaLhuzOOZw3w",
        "outputId": "0c8599d6-0e5e-4139-e43a-53ff4a342ecb"
      },
      "execution_count": null,
      "outputs": [
        {
          "output_type": "stream",
          "name": "stdout",
          "text": [
            "Total STD is  5.0\n",
            "Total STD in Crores 22.5\n",
            "Total mean is 12\n",
            "total mean in cores is  54.0\n"
          ]
        }
      ]
    },
    {
      "cell_type": "code",
      "source": [
        "r1,r2=np.round(sts.norm.interval(0.95,total_mean,total_std),3)\n",
        "print(\"rupee range\",np.divide(np.multiply(r1,45),10),\"to\",np.divide(np.multiply(r2,45),10),\"Crores for 95% probability\")"
      ],
      "metadata": {
        "colab": {
          "base_uri": "https://localhost:8080/"
        },
        "id": "olvFPr-aa_aK",
        "outputId": "b2df7754-b40c-48d9-f46f-6fc2dc07854a"
      },
      "execution_count": null,
      "outputs": [
        {
          "output_type": "stream",
          "name": "stdout",
          "text": [
            "rupee range 9.900000000000002 to 98.1 Crores for 95% probability\n"
          ]
        }
      ]
    },
    {
      "cell_type": "markdown",
      "source": [
        "5(B)"
      ],
      "metadata": {
        "id": "iYXt_briQFLD"
      }
    },
    {
      "cell_type": "code",
      "source": [
        "z_scor=sts.norm.ppf(0.05)\n",
        "fifth_percentile=(z_scor*total_std)+total_mean\n",
        "print(\"Fifth percentile in million\",np.round(fifth_percentile,3))\n",
        "print(\"Fifth percentile in crores\",np.round((fifth_percentile*45)/10,3))"
      ],
      "metadata": {
        "colab": {
          "base_uri": "https://localhost:8080/"
        },
        "id": "EL5fFhhncWIX",
        "outputId": "d339d385-1aa8-479d-8817-de4b3bd6b022"
      },
      "execution_count": null,
      "outputs": [
        {
          "output_type": "stream",
          "name": "stdout",
          "text": [
            "Fifth percentile in million 3.776\n",
            "Fifth percentile in crores 16.991\n"
          ]
        }
      ]
    },
    {
      "cell_type": "markdown",
      "source": [
        "5(C)"
      ],
      "metadata": {
        "id": "yf3eBXzUQIGz"
      }
    },
    {
      "cell_type": "code",
      "source": [
        "division1=sts.norm.cdf(0,5,3)\n",
        "division2=sts.norm.cdf(0,7,4)\n",
        "division1,division2\n",
        "if division1>division2:\n",
        "  print(\"Division 1 is making high loss \")\n",
        "else:\n",
        "  print(\"Divison 2 is making high loss\")\n"
      ],
      "metadata": {
        "colab": {
          "base_uri": "https://localhost:8080/"
        },
        "id": "lrQTYdPtdNVW",
        "outputId": "f0434c11-d40f-431e-925b-d168bc8f4af3"
      },
      "execution_count": null,
      "outputs": [
        {
          "output_type": "stream",
          "name": "stdout",
          "text": [
            "Division 1 is making high loss \n"
          ]
        }
      ]
    },
    {
      "cell_type": "code",
      "source": [],
      "metadata": {
        "id": "xkRe2dJxeKt3"
      },
      "execution_count": null,
      "outputs": []
    }
  ]
}